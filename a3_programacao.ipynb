{
  "nbformat": 4,
  "nbformat_minor": 0,
  "metadata": {
    "colab": {
      "provenance": [],
      "authorship_tag": "ABX9TyObeu/k4M1yOzjBQsDq72fD",
      "include_colab_link": true
    },
    "kernelspec": {
      "name": "python3",
      "display_name": "Python 3"
    },
    "language_info": {
      "name": "python"
    }
  },
  "cells": [
    {
      "cell_type": "markdown",
      "metadata": {
        "id": "view-in-github",
        "colab_type": "text"
      },
      "source": [
        "<a href=\"https://colab.research.google.com/github/ACVS123456/a3-programacao/blob/main/a3_programacao.ipynb\" target=\"_parent\"><img src=\"https://colab.research.google.com/assets/colab-badge.svg\" alt=\"Open In Colab\"/></a>"
      ]
    },
    {
      "cell_type": "code",
      "execution_count": 8,
      "metadata": {
        "colab": {
          "base_uri": "https://localhost:8080/"
        },
        "id": "ZBYw6Z3QcDNT",
        "outputId": "af459ce7-4e4b-4373-da3d-848fd41b6fd4"
      },
      "outputs": [
        {
          "output_type": "stream",
          "name": "stdout",
          "text": [
            "Insira a primeira nota por favor!: 8\n",
            "Insira a segunda nota por favor!: 9\n",
            "Insira a terceira nota por favor!: 0\n",
            "A média do aluno sera: 5.67\n",
            "O aluno está em recuperação.\n"
          ]
        }
      ],
      "source": [
        "def calcular_media():\n",
        "    # Solicitar as três notas do aluno a seguir\n",
        "\n",
        "    nota1 = float(input(\"Insira a primeira nota por favor!: \"))\n",
        "    nota2 = float(input(\"Insira a segunda nota por favor!: \"))\n",
        "    nota3 = float(input(\"Insira a terceira nota por favor!: \"))\n",
        "\n",
        "    # Calcular a média\n",
        "    media = (nota1 + nota2 + nota3) / 3\n",
        "\n",
        "    # Mostrar a média\n",
        "    print(f\"A média do aluno sera: {media:.2f}\")\n",
        "\n",
        "    # Verificar se o aluno foi aprovado ou está em recuperação\n",
        "    if media >= 7:\n",
        "        print(\"O aluno foi aprovado!\")\n",
        "    else:\n",
        "        print(\"O aluno está em recuperação.\")\n",
        "\n",
        "# Executar a função\n",
        "calcular_media()"
      ]
    },
    {
      "cell_type": "markdown",
      "source": [],
      "metadata": {
        "id": "iHpK1nKlcLu3"
      }
    }
  ]
}